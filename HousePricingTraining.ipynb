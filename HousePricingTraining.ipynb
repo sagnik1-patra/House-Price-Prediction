{
 "cells": [
  {
   "cell_type": "code",
   "execution_count": 2,
   "id": "74fef4bc-26b3-4880-b5cd-181fef806a42",
   "metadata": {},
   "outputs": [
    {
     "name": "stdout",
     "output_type": "stream",
     "text": [
      "Data shape: (15474, 8)\n",
      "   image_id                 street             citi  n_citi  bed  bath  sqft  \\\n",
      "0         0  1317 Van Buren Avenue  Salton City, CA     317    3   2.0  1560   \n",
      "1         1         124 C Street W      Brawley, CA      48    3   2.0   713   \n",
      "2         2        2304 Clark Road     Imperial, CA     152    3   1.0   800   \n",
      "3         3     755 Brawley Avenue      Brawley, CA      48    3   1.0  1082   \n",
      "4         4  2207 R Carrillo Court     Calexico, CA      55    4   3.0  2547   \n",
      "\n",
      "    price  \n",
      "0  201900  \n",
      "1  228500  \n",
      "2  273950  \n",
      "3  350000  \n",
      "4  385100  \n",
      "Downloading data from https://storage.googleapis.com/tensorflow/keras-applications/inception_v3/inception_v3_weights_tf_dim_ordering_tf_kernels_notop.h5\n",
      "\u001b[1m87910968/87910968\u001b[0m \u001b[32m━━━━━━━━━━━━━━━━━━━━\u001b[0m\u001b[37m\u001b[0m \u001b[1m11s\u001b[0m 0us/step\n"
     ]
    },
    {
     "name": "stderr",
     "output_type": "stream",
     "text": [
      "Extracting CNN features: 100%|███████████████████████████████████████████████████████████████████████████████████████| 15474/15474 [41:01<00:00,  6.29it/s]\n"
     ]
    },
    {
     "name": "stdout",
     "output_type": "stream",
     "text": [
      "RMSE: 257951.43\n",
      "R² Score: 0.5486\n"
     ]
    }
   ],
   "source": [
    "import os\n",
    "import pandas as pd\n",
    "import numpy as np\n",
    "from sklearn.model_selection import train_test_split\n",
    "from sklearn.preprocessing import StandardScaler, LabelEncoder\n",
    "from sklearn.metrics import mean_squared_error, r2_score\n",
    "import tensorflow as tf\n",
    "from tensorflow.keras.applications import InceptionV3\n",
    "from tensorflow.keras.applications.inception_v3 import preprocess_input\n",
    "from tensorflow.keras.preprocessing import image\n",
    "import xgboost as xgb\n",
    "from tqdm import tqdm\n",
    "\n",
    "# Paths\n",
    "csv_path = r\"C:\\Users\\sagni\\Downloads\\House Pricing\\archive (1)\\socal2.csv\"\n",
    "img_folder = r\"C:\\Users\\sagni\\Downloads\\House Pricing\\archive (1)\\socal2\\socal_pics\"\n",
    "\n",
    "# Load dataset\n",
    "df = pd.read_csv(csv_path)\n",
    "print(f\"Data shape: {df.shape}\")\n",
    "print(df.head())\n",
    "\n",
    "# Drop rows with missing values (if any)\n",
    "df.dropna(inplace=True)\n",
    "\n",
    "# Encode categorical features (e.g., 'citi')\n",
    "for col in df.select_dtypes(include=['object']).columns:\n",
    "    df[col] = LabelEncoder().fit_transform(df[col])\n",
    "\n",
    "# Split features and target\n",
    "y = df['price']\n",
    "X_tabular = df.drop(['price', 'image_id'], axis=1)\n",
    "\n",
    "# Normalize tabular data\n",
    "scaler = StandardScaler()\n",
    "X_tabular_scaled = scaler.fit_transform(X_tabular)\n",
    "\n",
    "# CNN feature extraction model\n",
    "model_cnn = InceptionV3(weights='imagenet', include_top=False, pooling='avg')\n",
    "\n",
    "def extract_image_features(img_id):\n",
    "    img_filename = f\"{img_id}.jpg\"  # Assuming images are named like '0.jpg', '1.jpg', etc.\n",
    "    img_path = os.path.join(img_folder, img_filename)\n",
    "    if not os.path.exists(img_path):  # Handle missing images gracefully\n",
    "        return np.zeros(2048)\n",
    "    img = image.load_img(img_path, target_size=(299, 299))\n",
    "    img_array = image.img_to_array(img)\n",
    "    img_array = np.expand_dims(img_array, axis=0)\n",
    "    img_array = preprocess_input(img_array)\n",
    "    features = model_cnn.predict(img_array, verbose=0)\n",
    "    return features.flatten()\n",
    "\n",
    "# Extract features for all images\n",
    "image_features = []\n",
    "for img_id in tqdm(df['image_id'], desc=\"Extracting CNN features\"):\n",
    "    image_features.append(extract_image_features(img_id))\n",
    "image_features = np.array(image_features)\n",
    "\n",
    "# Combine tabular and image features\n",
    "X_combined = np.hstack([X_tabular_scaled, image_features])\n",
    "\n",
    "# Train-test split\n",
    "X_train, X_test, y_train, y_test = train_test_split(X_combined, y, test_size=0.2, random_state=42)\n",
    "\n",
    "# XGBoost regression\n",
    "xgb_model = xgb.XGBRegressor(n_estimators=100, learning_rate=0.1, max_depth=6, random_state=42)\n",
    "xgb_model.fit(X_train, y_train)\n",
    "\n",
    "# Predictions\n",
    "y_pred = xgb_model.predict(X_test)\n",
    "\n",
    "# Evaluation\n",
    "rmse = np.sqrt(mean_squared_error(y_test, y_pred))\n",
    "r2 = r2_score(y_test, y_pred)\n",
    "print(f\"RMSE: {rmse:.2f}\")\n",
    "print(f\"R² Score: {r2:.4f}\")\n"
   ]
  },
  {
   "cell_type": "code",
   "execution_count": null,
   "id": "13e8f54a-5c8c-49a4-b6f8-3812a3bb1784",
   "metadata": {},
   "outputs": [],
   "source": []
  }
 ],
 "metadata": {
  "kernelspec": {
   "display_name": "Python 3.11 (moviepy)",
   "language": "python",
   "name": "py311"
  },
  "language_info": {
   "codemirror_mode": {
    "name": "ipython",
    "version": 3
   },
   "file_extension": ".py",
   "mimetype": "text/x-python",
   "name": "python",
   "nbconvert_exporter": "python",
   "pygments_lexer": "ipython3",
   "version": "3.11.9"
  }
 },
 "nbformat": 4,
 "nbformat_minor": 5
}
